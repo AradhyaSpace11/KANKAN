{
 "cells": [
  {
   "cell_type": "code",
   "execution_count": null,
   "metadata": {},
   "outputs": [],
   "source": [
    "%pip install pykan\n",
    "%pip install torchinfo"
   ]
  },
  {
   "cell_type": "markdown",
   "metadata": {},
   "source": [
    "# **KAN**"
   ]
  },
  {
   "cell_type": "code",
   "execution_count": 42,
   "metadata": {},
   "outputs": [
    {
     "name": "stdout",
     "output_type": "stream",
     "text": [
      "checkpoint directory created: ./model\n",
      "saving model version 0.0\n",
      "Estimated FLOPs for the KAN model: 171.0\n"
     ]
    },
    {
     "name": "stderr",
     "output_type": "stream",
     "text": [
      "| train_loss: 1.03e+01 | test_loss: 1.00e+01 | reg: 1.65e+01 | :   5%| | 24/500 [00:00<00:02, 234.86"
     ]
    },
    {
     "name": "stderr",
     "output_type": "stream",
     "text": [
      "| train_loss: 4.19e-01 | test_loss: 4.18e-01 | reg: 1.64e+01 | : 100%|█| 500/500 [00:01<00:00, 272.3\n"
     ]
    },
    {
     "name": "stdout",
     "output_type": "stream",
     "text": [
      "saving model version 0.1\n",
      "\n",
      "Mean Squared Error on Test Data: 0.1743\n",
      "Learned symbolic formula: 0\n"
     ]
    },
    {
     "data": {
      "image/png": "[encoded data removed]",
      "text/plain": [
       "<Figure size 500x200 with 3 Axes>"
      ]
     },
     "metadata": {},
     "output_type": "display_data"
    },
    {
     "data": {
      "image/png": "[encoded data removed]",
      "text/plain": [
       "<Figure size 500x200 with 3 Axes>"
      ]
     },
     "metadata": {},
     "output_type": "display_data"
    }
   ],
   "source": [
    "import pandas as pd\n",
    "import torch\n",
    "from kan import KAN\n",
    "from kan.utils import create_dataset, ex_round\n",
    "\n",
    "# Step 1: Load the Dataset\n",
    "df = pd.read_csv('datasets/numsquares.csv')\n",
    "x = torch.tensor(df[['number']].values, dtype=torch.float32)\n",
    "y = torch.tensor(df[['square']].values, dtype=torch.float32)\n",
    "\n",
    "# Create the dataset dictionary\n",
    "dataset = {\n",
    "    'train_input': x,\n",
    "    'train_label': y,\n",
    "    'test_input': x,   # Using the same data for simplicity in testing accuracy\n",
    "    'test_label': y\n",
    "}\n",
    "\n",
    "# Step 2: Initialize the Model with only one neuron (input to output)\n",
    "device = torch.device('cuda' if torch.cuda.is_available() else 'cpu')\n",
    "din = 1\n",
    "dout = 1\n",
    "G = 2\n",
    "K = 3\n",
    "model = KAN(width=[1, 1], grid=G, k=K, seed=0, device=device)  # Single input-output neuron\n",
    "\n",
    "# FLOP calculation function\n",
    "def calculate_kan_flops(din, dout, G, K):\n",
    "    return (din * dout) * (9 * K * (G + 1.5 * K) + 2 * G - 2.5 * K - 1)\n",
    "\n",
    "# Calculate FLOPs for this KAN model\n",
    "flops = calculate_kan_flops(din, dout, G, K)\n",
    "print(f\"Estimated FLOPs for the KAN model: {flops}\")\n",
    "\n",
    "# Visualize the initial model\n",
    "model(dataset['train_input'])\n",
    "model.plot()\n",
    "\n",
    "# Step 3: Train the Model\n",
    "# Training for 500 steps with Adam optimizer and lambda regularization\n",
    "model.fit(dataset, opt=\"Adam\", steps=500, lamb=0.0001)\n",
    "\n",
    "# Visualize the trained model\n",
    "model.plot()\n",
    "\n",
    "# Step 4: Evaluate the Model (Mean Squared Error)\n",
    "model.eval()  # Set model to evaluation mode\n",
    "with torch.no_grad():\n",
    "    predictions = model(dataset['test_input'])\n",
    "    mse_loss = torch.nn.functional.mse_loss(predictions, dataset['test_label'])\n",
    "    print(f\"\\nMean Squared Error on Test Data: {mse_loss.item():.4f}\")\n",
    "\n",
    "# Step 5: Display the Learned Symbolic Formula\n",
    "symbolic_formula = ex_round(model.symbolic_formula()[0][0], 4)\n",
    "print(\"Learned symbolic formula:\", symbolic_formula)\n",
    "\n"
   ]
  },
  {
   "cell_type": "markdown",
   "metadata": {},
   "source": [
    "# **MLP**"
   ]
  },
  {
   "cell_type": "code",
   "execution_count": 37,
   "metadata": {},
   "outputs": [
    {
     "name": "stdout",
     "output_type": "stream",
     "text": [
      "Estimated FLOPs for the MLP model: 40000\n",
      "Epoch [100/500], Loss: 18.0602\n"
     ]
    },
    {
     "name": "stdout",
     "output_type": "stream",
     "text": [
      "Epoch [200/500], Loss: 2.5107\n",
      "Epoch [300/500], Loss: 0.8949\n",
      "Epoch [400/500], Loss: 1.4201\n",
      "Epoch [500/500], Loss: 0.3416\n",
      "\n",
      "Mean Squared Error on Test Data: 0.6646\n",
      "\n",
      "Predictions vs Actual:\n",
      "Number: 1.0, Predicted Square: 1.42, Actual Square: 1.0\n",
      "Number: 2.0, Predicted Square: 4.01, Actual Square: 4.0\n",
      "Number: 3.0, Predicted Square: 9.48, Actual Square: 9.0\n",
      "Number: 4.0, Predicted Square: 16.52, Actual Square: 16.0\n",
      "Number: 5.0, Predicted Square: 25.46, Actual Square: 25.0\n",
      "Number: 6.0, Predicted Square: 36.58, Actual Square: 36.0\n",
      "Number: 7.0, Predicted Square: 49.54, Actual Square: 49.0\n",
      "Number: 8.0, Predicted Square: 64.64, Actual Square: 64.0\n",
      "Number: 9.0, Predicted Square: 81.59, Actual Square: 81.0\n",
      "Number: 10.0, Predicted Square: 100.82, Actual Square: 100.0\n",
      "Number: 11.0, Predicted Square: 121.37, Actual Square: 121.0\n",
      "Number: 12.0, Predicted Square: 145.08, Actual Square: 144.0\n",
      "Number: 13.0, Predicted Square: 170.71, Actual Square: 169.0\n",
      "Number: 14.0, Predicted Square: 197.43, Actual Square: 196.0\n",
      "Number: 15.0, Predicted Square: 224.14, Actual Square: 225.0\n"
     ]
    }
   ],
   "source": [
    "import pandas as pd\n",
    "import torch\n",
    "import torch.nn as nn\n",
    "import torch.optim as optim\n",
    "from sklearn.metrics import mean_squared_error\n",
    "\n",
    "# Step 1: Load the Dataset\n",
    "df = pd.read_csv('datasets/numsquares.csv')\n",
    "x = torch.tensor(df[['number']].values, dtype=torch.float32)\n",
    "y = torch.tensor(df[['square']].values, dtype=torch.float32)\n",
    "\n",
    "# Step 2: Define the MLP Model with Customizable Parameters\n",
    "class MLP(nn.Module):\n",
    "    def __init__(self, input_size=1, hidden_size=10, output_size=1, num_hidden_layers=1):\n",
    "        super(MLP, self).__init__()\n",
    "        layers = []\n",
    "        \n",
    "        # Input layer\n",
    "        layers.append(nn.Linear(input_size, hidden_size))\n",
    "        layers.append(nn.ReLU())\n",
    "        \n",
    "        # Hidden layers\n",
    "        for _ in range(num_hidden_layers - 1):\n",
    "            layers.append(nn.Linear(hidden_size, hidden_size))\n",
    "            layers.append(nn.ReLU())\n",
    "        \n",
    "        # Output layer\n",
    "        layers.append(nn.Linear(hidden_size, output_size))\n",
    "        \n",
    "        # Create the sequential model\n",
    "        self.model = nn.Sequential(*layers)\n",
    "    \n",
    "    def forward(self, x):\n",
    "        return self.model(x)\n",
    "\n",
    "# Initialize the model with desired parameters\n",
    "device = torch.device('cuda' if torch.cuda.is_available() else 'cpu')\n",
    "input_size = 1\n",
    "hidden_size = 10000\n",
    "output_size = 1\n",
    "num_hidden_layers = 1\n",
    "model = MLP(input_size, hidden_size, output_size, num_hidden_layers).to(device)\n",
    "\n",
    "# Move data to the device\n",
    "x, y = x.to(device), y.to(device)\n",
    "\n",
    "# Calculate FLOPs manually\n",
    "def calculate_flops(model, input_size):\n",
    "    flops = 0\n",
    "    for layer in model.model:\n",
    "        if isinstance(layer, nn.Linear):\n",
    "            layer_flops = 2 * layer.in_features * layer.out_features\n",
    "            flops += layer_flops\n",
    "    return flops\n",
    "\n",
    "# Display the calculated FLOPs for this model\n",
    "flops = calculate_flops(model, input_size)\n",
    "print(f\"Estimated FLOPs for the MLP model: {flops}\")\n",
    "\n",
    "# Step 3: Define Loss Function and Optimizer\n",
    "criterion = nn.MSELoss()\n",
    "optimizer = optim.Adam(model.parameters(), lr=0.01)\n",
    "\n",
    "# Step 4: Train the Model\n",
    "epochs = 500\n",
    "for epoch in range(epochs):\n",
    "    model.train()\n",
    "    optimizer.zero_grad()               # Clear gradients\n",
    "    predictions = model(x)              # Forward pass\n",
    "    loss = criterion(predictions, y)    # Calculate loss\n",
    "    loss.backward()                     # Backward pass\n",
    "    optimizer.step()                    # Update weights\n",
    "\n",
    "    if (epoch+1) % 100 == 0:\n",
    "        print(f\"Epoch [{epoch+1}/{epochs}], Loss: {loss.item():.4f}\")\n",
    "\n",
    "# Step 5: Evaluate the Model (Mean Squared Error)\n",
    "model.eval()  # Set model to evaluation mode\n",
    "with torch.no_grad():\n",
    "    predictions = model(x)\n",
    "    mse_loss = criterion(predictions, y)\n",
    "    print(f\"\\nMean Squared Error on Test Data: {mse_loss.item():.4f}\")\n",
    "\n",
    "# Convert predictions to numpy for easy comparison\n",
    "predictions_np = predictions.cpu().numpy()\n",
    "y_np = y.cpu().numpy()\n",
    "\n",
    "# Display Predictions vs Actual Values\n",
    "print(\"\\nPredictions vs Actual:\")\n",
    "for i in range(len(y_np)):\n",
    "    print(f\"Number: {x[i].item()}, Predicted Square: {predictions_np[i][0]:.2f}, Actual Square: {y_np[i][0]}\")\n"
   ]
  }
 ],
 "metadata": {
  "language_info": {
   "name": "python"
  }
 },
 "nbformat": 4,
 "nbformat_minor": 2
}
