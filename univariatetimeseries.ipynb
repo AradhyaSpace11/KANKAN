{
 "cells": [
  {
   "cell_type": "code",
   "execution_count": 1,
   "metadata": {},
   "outputs": [
    {
     "name": "stdout",
     "output_type": "stream",
     "text": [
      "Note: you may need to restart the kernel to use updated packages.\n"
     ]
    }
   ],
   "source": [
    "%pip install -q datasetsforecast neuralforecast utilsforecast statsforecast"
   ]
  },
  {
   "cell_type": "code",
   "execution_count": null,
   "metadata": {},
   "outputs": [],
   "source": [
    "import pandas as pd\n",
    "import matplotlib.pyplot as plt\n",
    "from neuralforecast import NeuralForecast\n",
    "from neuralforecast.models import KAN\n",
    "from sklearn.metrics import mean_squared_error\n",
    "\n",
    "# Load the dataset\n",
    "df = pd.read_csv(\"datasets/dailymintemp.csv\")\n",
    "df = df.rename(columns={\"Date\": \"ds\", \"Daily minimum temperatures\": \"y\"})\n",
    "df[\"unique_id\"] = \"TempSeries\"\n",
    "df[\"ds\"] = pd.to_datetime(df[\"ds\"])\n",
    "\n",
    "# Split into training and testing sets\n",
    "train_df = df[df[\"ds\"] < \"1990-01-01\"]\n",
    "test_df = df[df[\"ds\"] >= \"1990-01-01\"]\n",
    "\n",
    "# Define forecast horizon\n",
    "horizon = 7  # Predicting the next week\n",
    "\n",
    "# Configure the KAN model\n",
    "kan_model = KAN(\n",
    "    h=horizon,\n",
    "    input_size=2 * horizon,\n",
    "    scaler_type='standard',\n",
    "    max_steps=1000,\n",
    "    early_stop_patience_steps=3\n",
    ")\n",
    "\n",
    "# FLOPs Calculation Function\n",
    "def calculate_kan_flops(din, dout, G, K):\n",
    "    return (din * dout) * (9 * K * (G + 1.5 * K) + 2 * G - 2.5 * K - 1)\n",
    "\n",
    "# Parameters for FLOP calculation\n",
    "din = kan_model.input_size       # input size to KAN\n",
    "dout = kan_model.h               # forecast horizon\n",
    "grid_size = 5                    # Assumed grid size used in KAN\n",
    "spline_order = 3                 # Assumed spline order for KAN\n",
    "flops = calculate_kan_flops(din, dout, grid_size, spline_order)\n",
    "print(f\"Estimated FLOPs for KAN model: {flops}\")\n",
    "\n",
    "# Initialize NeuralForecast\n",
    "nf = NeuralForecast(models=[kan_model], freq='D')\n",
    "\n",
    "# Calculate validation size\n",
    "val_size = int(0.1 * len(train_df))\n",
    "\n",
    "# Train the model (pass val_size)\n",
    "nf.fit(df=train_df, val_size=val_size)\n",
    "\n",
    "# Generate predictions\n",
    "neural_preds = nf.predict(futr_df=test_df[['unique_id', 'ds']])\n",
    "\n",
    "# Merge predictions with actual data\n",
    "results = pd.merge(test_df, neural_preds, on=['unique_id', 'ds'], how='left')\n",
    "\n",
    "# Calculate Mean Squared Error (MSE) for accuracy\n",
    "mse = mean_squared_error(results['y'], results['KAN'])\n",
    "print(f\"Mean Squared Error (MSE) on Test Data: {mse:.4f}\")\n",
    "\n",
    "# Visualize the results\n",
    "plt.figure(figsize=(10, 6))\n",
    "plt.plot(results['ds'], results['y'], label='Actual')\n",
    "plt.plot(results['ds'], results['KAN'], label='Predicted (KAN)')\n",
    "plt.legend()\n",
    "plt.xlabel('Date')\n",
    "plt.ylabel('Daily Minimum Temperature')\n",
    "plt.title('KAN Forecast for Daily Minimum Temperatures')\n",
    "plt.show()\n"
   ]
  }
 ],
 "metadata": {
  "language_info": {
   "name": "python"
  }
 },
 "nbformat": 4,
 "nbformat_minor": 2
}
